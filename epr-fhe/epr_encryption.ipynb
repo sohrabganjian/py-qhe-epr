{
 "cells": [
  {
   "cell_type": "code",
   "execution_count": null,
   "metadata": {},
   "outputs": [],
   "source": [
    "%run quantum_one_time_pad.ipynb\n",
    "%run che_initialization.ipynb"
   ]
  },
  {
   "cell_type": "code",
   "execution_count": null,
   "metadata": {},
   "outputs": [],
   "source": [
    "def pad_zeros(L, n):\n",
    "    \"\"\"\n",
    "    Pad the remaining elements of each member of a list with 0 until the length of each list becomes n.\n",
    "    This function is used for encrypting a single bit using BFV scheme where \n",
    "    the degeree of a polynomial must be a power of two.\n",
    "    \n",
    "    For example, if L = [0,1] and n = 4, then \n",
    "    pad_zeros(L, n) returns [[0,0,0,0],[1,0,0,0]]\n",
    "    \n",
    "    Args: \n",
    "        - L: list of bits\n",
    "        - n: the length of list after padding 0 elements\n",
    "    Returns:\n",
    "        - a concatenation of lst with a list of zeros so that the output is a list of n elements\n",
    "    \"\"\"\n",
    "    return [[i] + [0] * (n - 1) for i in L]"
   ]
  },
  {
   "cell_type": "code",
   "execution_count": null,
   "metadata": {},
   "outputs": [],
   "source": [
    "def epr_enc(psi,a,b):\n",
    "    \"\"\"\n",
    "    Encrypt a pure quantum state |psi> using a list of classical bits a and b according to the epr scheme.\n",
    "    by Broadbent and Jeffery https://arxiv.org/abs/1412.8766\n",
    "    \n",
    "    Args: \n",
    "        - psi: a vector representation of the pure state |psi>\n",
    "        - a: list of (randomly generated) classical bits\n",
    "        - b: list of (randomly generated) classical bits\n",
    "        \n",
    "    Returns: \n",
    "        - psi_enc: encrypted pure state by the quantum one-time pad\n",
    "        - a_enc: a list of ciphertexts resulted from the BFV classical homomorphic encryption scheme of list `a`\n",
    "        - b_enc: a list of ciphertexts resulted from the BFV classical homomorphic encryption scheme of list `b`\n",
    "    \"\"\"\n",
    "    padded_a = pad_zeros(a, degree)\n",
    "    padded_b = pad_zeros(b, degree)\n",
    "    \n",
    "    encoded_a = [encoder.encode(i) for i in padded_a]\n",
    "    encoded_b = [encoder.encode(i) for i in padded_b]\n",
    "    \n",
    "    a_enc = [encryptor.encrypt(i) for i in encoded_a]\n",
    "    b_enc = [encryptor.encrypt(i) for i in encoded_b]\n",
    " \n",
    "    \n",
    "    psi_enc = qotp_enc(psi, a, b)\n",
    "    return psi_enc, a_enc, b_enc"
   ]
  }
 ],
 "metadata": {
  "@webio": {
   "lastCommId": null,
   "lastKernelId": null
  },
  "kernelspec": {
   "display_name": "Python 3",
   "language": "python",
   "name": "python3"
  },
  "language_info": {
   "codemirror_mode": {
    "name": "ipython",
    "version": 3
   },
   "file_extension": ".py",
   "mimetype": "text/x-python",
   "name": "python",
   "nbconvert_exporter": "python",
   "pygments_lexer": "ipython3",
   "version": "3.8.5"
  }
 },
 "nbformat": 4,
 "nbformat_minor": 4
}
