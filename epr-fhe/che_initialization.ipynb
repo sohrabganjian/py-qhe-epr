{
 "cells": [
  {
   "cell_type": "code",
   "execution_count": null,
   "metadata": {},
   "outputs": [],
   "source": [
    "# import BFV scheme for the classical homomorphic encryption component of the EPR scheme\n",
    "# for more information refer to: https://github.com/sarojaerabelli/py-fhe/blob/master/examples/bfv_mult_example.py\n",
    "from bfv.batch_encoder import BatchEncoder\n",
    "from bfv.bfv_decryptor import BFVDecryptor\n",
    "from bfv.bfv_encryptor import BFVEncryptor\n",
    "from bfv.bfv_evaluator import BFVEvaluator\n",
    "from bfv.bfv_key_generator import BFVKeyGenerator\n",
    "from bfv.bfv_parameters import BFVParameters"
   ]
  },
  {
   "cell_type": "code",
   "execution_count": null,
   "metadata": {},
   "outputs": [],
   "source": [
    "# Initialize BFV parameters\n",
    "degree = 8\n",
    "\n",
    "plain_modulus = 17 # Ciphertext modulus is a prime congruent to 1 (mod 16).\n",
    "ciph_modulus = 8000000000000\n",
    "params = BFVParameters(poly_degree=degree,\n",
    "                       plain_modulus=plain_modulus,\n",
    "                       ciph_modulus=ciph_modulus)\n",
    "key_generator = BFVKeyGenerator(params)\n",
    "public_key = key_generator.public_key\n",
    "secret_key = key_generator.secret_key\n",
    "relin_key = key_generator.relin_key\n",
    "encoder = BatchEncoder(params)\n",
    "encryptor = BFVEncryptor(params, public_key)\n",
    "decryptor = BFVDecryptor(params, secret_key)\n",
    "evaluator = BFVEvaluator(params)"
   ]
  },
  {
   "cell_type": "code",
   "execution_count": null,
   "metadata": {},
   "outputs": [],
   "source": []
  }
 ],
 "metadata": {
  "@webio": {
   "lastCommId": null,
   "lastKernelId": null
  },
  "kernelspec": {
   "display_name": "Python 3",
   "language": "python",
   "name": "python3"
  },
  "language_info": {
   "codemirror_mode": {
    "name": "ipython",
    "version": 3
   },
   "file_extension": ".py",
   "mimetype": "text/x-python",
   "name": "python",
   "nbconvert_exporter": "python",
   "pygments_lexer": "ipython3",
   "version": "3.8.5"
  }
 },
 "nbformat": 4,
 "nbformat_minor": 4
}
