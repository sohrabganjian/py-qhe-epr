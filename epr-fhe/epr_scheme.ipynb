{
 "cells": [
  {
   "cell_type": "code",
   "execution_count": null,
   "metadata": {},
   "outputs": [],
   "source": [
    "%run quantum_one_time_pad.ipynb\n",
    "%run che_initialization.ipynb\n",
    "%run epr_encryption.ipynb\n",
    "%run epr_evaluation.ipynb\n",
    "%run epr_decryption.ipynb"
   ]
  },
  {
   "cell_type": "code",
   "execution_count": null,
   "metadata": {},
   "outputs": [],
   "source": [
    "def epr_quantum_homomorphic_scheme(psi, a, b, circuits):\n",
    "    \"\"\"\n",
    "    Homomorphically apply the quantum circuit provided by `circuits` on the quantum pure state\n",
    "    |psi>, which is encrypted with bits `a` and `b` using the quantum one-time pad according to the EPR scheme.\n",
    "    For more information refer to the Clifford scheme by Broadbent and Jeffery: https://arxiv.org/abs/1412.8766\n",
    "    \n",
    "    Args:\n",
    "        - psi: a vector representation of the pure state |psi>\n",
    "        - a: list of (randomly generated) classical bits\n",
    "        - b: list of (randomly generated) classical bits\n",
    "        circuits: description of the quantum circuit as a list of strigs. Each element of the list represents one layer\n",
    "        of the circuit.\n",
    "        \n",
    "    Returns:\n",
    "        - rho_dec_eval: evaluated decrypted density matrix of the input message \n",
    "    \"\"\" \n",
    "    psi_enc, a_enc, b_enc = epr_enc(psi,a,b)\n",
    "    rho_hom_eval, a_tilde_update, b_tilde_update, circuit_dictionary, key_polynomials, t_gate_sequence_over_time,  c_encrypted, p_exponents = epr_eval(circuits,psi_enc, a_enc, b_enc)\n",
    "    rho_dec_eval = epr_dec(rho_hom_eval, a_tilde_update, b_tilde_update, circuit_dictionary, key_polynomials, t_gate_sequence_over_time, c_encrypted, p_exponents)\n",
    "    return rho_dec_eval"
   ]
  },
  {
   "cell_type": "code",
   "execution_count": null,
   "metadata": {},
   "outputs": [],
   "source": []
  }
 ],
 "metadata": {
  "@webio": {
   "lastCommId": null,
   "lastKernelId": null
  },
  "kernelspec": {
   "display_name": "Python 3",
   "language": "python",
   "name": "python3"
  },
  "language_info": {
   "codemirror_mode": {
    "name": "ipython",
    "version": 3
   },
   "file_extension": ".py",
   "mimetype": "text/x-python",
   "name": "python",
   "nbconvert_exporter": "python",
   "pygments_lexer": "ipython3",
   "version": "3.8.5"
  }
 },
 "nbformat": 4,
 "nbformat_minor": 4
}
