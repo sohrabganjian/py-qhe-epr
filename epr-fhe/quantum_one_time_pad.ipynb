{
 "cells": [
  {
   "cell_type": "code",
   "execution_count": null,
   "metadata": {},
   "outputs": [],
   "source": [
    "%run basic_quantum_operations.ipynb"
   ]
  },
  {
   "cell_type": "code",
   "execution_count": null,
   "metadata": {},
   "outputs": [],
   "source": [
    "def qotp_enc(psi, a, b):\n",
    "    \"\"\"\n",
    "    Encrypt the pure quantum state |psi> with a list of bits a and b using quantum one-time pad\n",
    "    \n",
    "    Args: \n",
    "        psi: a vector representation of the quantum state |psi>\n",
    "        a: a list of bits needed for the X-Pauli gates of the quantum one-time pad\n",
    "        b: a list of bits needed for the Z-Pauli gates of the quantum one-time pad\n",
    "        \n",
    "    Returns:\n",
    "        psi_enc: vector representation of the encrypted state\n",
    "    \"\"\"\n",
    "    xz_tensor = np.matmul(matrix_power(X, a[0]),  matrix_power(Z, b[0]))\n",
    "    n = len(a)\n",
    "    for i in range(1,n):\n",
    "        xz_tensor = np.kron(xz_tensor, np.matmul(np.linalg.matrix_power(X, a[i]),  \n",
    "                                                 np.linalg.matrix_power(Z, b[i])))\n",
    "    \n",
    "    psi_enc = np.matmul(xz_tensor, psi)\n",
    "    return psi_enc\n",
    "\n",
    "\n",
    "def qotp_dec_density(enc_rho, a,b):\n",
    "    \"\"\"\n",
    "    Decrypt the density matrix rho with a list of bits a and b using quantum one-time pad\n",
    "    \n",
    "    Args: \n",
    "        enc_rho: a density matrix representation of the encrypted quantum state rho\n",
    "        a: a list of bits needed for the X-Pauli gates of the quantum one-time pad\n",
    "        b: a list of bits needed for the Z-Pauli gates of the quantum one-time pad\n",
    "        \n",
    "    Returns:\n",
    "        dec_rho: density matrix of the decrypted state\n",
    "    \"\"\"\n",
    "    xz_tensor = np.matmul(np.linalg.matrix_power(Z, b[0]), np.linalg.matrix_power(X, a[0])) \n",
    "    n = len(a)\n",
    "    for i in range(1,n):\n",
    "        xz_tensor = np.kron(xz_tensor, np.matmul(np.linalg.matrix_power(Z, b[i]), \n",
    "                                                 np.linalg.matrix_power(X, a[i])))\n",
    "        \n",
    "    dec_rho = qgate_on_density(xz_tensor, enc_rho)\n",
    "    return dec_rho"
   ]
  },
  {
   "cell_type": "code",
   "execution_count": null,
   "metadata": {},
   "outputs": [],
   "source": []
  }
 ],
 "metadata": {
  "@webio": {
   "lastCommId": null,
   "lastKernelId": null
  },
  "kernelspec": {
   "display_name": "Python 3",
   "language": "python",
   "name": "python3"
  },
  "language_info": {
   "codemirror_mode": {
    "name": "ipython",
    "version": 3
   },
   "file_extension": ".py",
   "mimetype": "text/x-python",
   "name": "python",
   "nbconvert_exporter": "python",
   "pygments_lexer": "ipython3",
   "version": "3.8.5"
  }
 },
 "nbformat": 4,
 "nbformat_minor": 4
}
