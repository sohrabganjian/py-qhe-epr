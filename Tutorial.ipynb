{
 "cells": [
  {
   "cell_type": "markdown",
   "metadata": {},
   "source": [
    "This notebook serves as a tutorial to use the `py-qhe-epr` library. Please see: https://github.com/sohrabganjian/py-qhe-epr/ (currently not working)"
   ]
  },
  {
   "cell_type": "markdown",
   "metadata": {},
   "source": [
    "### Table of Contents\n",
    "\n",
    "* [1 - Introduction](#introduction)\n",
    "* [2 - I just want to run something quickly...](#run_quickly)\n",
    "* [3 - Generating qubits](#gen_qubits)\n",
    "* [4 - Passing circuits](#passing_circuits)\n",
    "* [5 - EPR scheme with FHE](#epr_fhe)\n",
    "* [6 - Testing the correctness](#testing_correctness)\n",
    "* [7 - References](#refs)"
   ]
  },
  {
   "cell_type": "markdown",
   "metadata": {},
   "source": [
    "### 1- Introduction <a class=\"anchor\" id=\"introduction\"></a>"
   ]
  },
  {
   "cell_type": "markdown",
   "metadata": {},
   "source": [
    "The implementation presented in this library follows the qunatum homomorphic encryption scheme presented in <a href=\"https://arxiv.org/pdf/1412.8766.pdf\">Quantum homomorphic encryption for circuits of low T-gate complexity</a> by Anne Broadbent and Stacey Jeffery. The scheme makes use of a fully homoomorphic encryption scheme. In this implmentation, we have incorporated the BFV scheme. The implementation is borrowed from https://github.com/sarojaerabelli/py-fhe. "
   ]
  },
  {
   "cell_type": "markdown",
   "metadata": {},
   "source": [
    "### 2 - I just want to run something quickly... <a class=\"anchor\" id=\"run_quickly\"></a>\n",
    "\n",
    "To get started for the first time, we highly recommend that you begin by cloning the repo first, or download the source code as a ZIP file and extract it. \n",
    "\n",
    "```bash\n",
    "   git clone https://github.com/sohrabganjian/py-qhe-epr.git\n",
    "```\n",
    "\n",
    "Then try running the `epr_scheme_no_fhe.ipynb` under the `epr-no-fhe` folder, since this library does not have dependency on the FHE scheme. The following code block loads the said notebook into your session so you can get started right away!  "
   ]
  },
  {
   "cell_type": "code",
   "execution_count": 1,
   "metadata": {},
   "outputs": [],
   "source": [
    "import os\n",
    "\n",
    "# change the directory to run the desired notebook \n",
    "relative_path = 'epr-no-fhe'\n",
    "current_dir = os.getcwd()\n",
    "epr_no_fhe_dir = os.path.join(current_dir, relative_path)\n",
    "os.chdir(epr_no_fhe_dir)"
   ]
  },
  {
   "cell_type": "code",
   "execution_count": 2,
   "metadata": {},
   "outputs": [],
   "source": [
    "%run epr_scheme_no_fhe.ipynb"
   ]
  },
  {
   "cell_type": "code",
   "execution_count": 3,
   "metadata": {},
   "outputs": [
    {
     "name": "stdout",
     "output_type": "stream",
     "text": [
      "[[0 0]\n",
      " [0 1]]\n"
     ]
    }
   ],
   "source": [
    "psi = zero_state()\n",
    "input_state_dimension = int(np.log2(psi.shape[0]))\n",
    "a = [random.getrandbits(1) for i in range(input_state_dimension)]\n",
    "b =  [random.getrandbits(1) for i in range(input_state_dimension)]\n",
    "circuit = [\"X\"]\n",
    "print(epr_qhe_no_fhe(psi, a, b, circuit))"
   ]
  },
  {
   "cell_type": "markdown",
   "metadata": {},
   "source": [
    "If the above cell works fine, then you must see an output like \n",
    "$$ \n",
    "\\begin{bmatrix}\n",
    "0 & 0 \\\\\n",
    "0 & 1 \n",
    "\\end{bmatrix}  \n",
    "$$\n",
    "\n",
    "In that case, congratulations! You have successfully run your first simulation of quantum homomorphic encryption scheme by applying the $X$ gate on $|0 \\rangle$. The output corresponds to the density matrix of $|1 \\rangle$. "
   ]
  },
  {
   "cell_type": "markdown",
   "metadata": {},
   "source": [
    "### 3 - Generating qubits <a class=\"anchor\" id=\"gen_qubits\"></a>\n",
    "\n",
    "You can create any one-qubit system by using the `gen_qubit` functionality. Upon receiving $\\alpha$ and $\\beta$ as input, it creates the vector representation of the quantum state $\\alpha |0\\rangle + \\beta |1 \\rangle$. Please ensure that the constraint $|\\alpha|^2 + |\\beta|^2 = 1$ is satisfied. "
   ]
  },
  {
   "cell_type": "code",
   "execution_count": 4,
   "metadata": {},
   "outputs": [
    {
     "name": "stdout",
     "output_type": "stream",
     "text": [
      "[[0.3      ]\n",
      " [0.9539392]]\n"
     ]
    }
   ],
   "source": [
    "alpha = 0.3\n",
    "beta = np.sqrt(1-alpha**2)\n",
    "psi = gen_qubit(alpha, beta)\n",
    "print(psi)"
   ]
  },
  {
   "cell_type": "markdown",
   "metadata": {},
   "source": [
    "We can create quantum states of higher dimensions by taking tensor product of single qubits. In NumPy, `np.kron` function is used for taking tensor products. For example, the following block creates the state $|01 \\rangle$"
   ]
  },
  {
   "cell_type": "code",
   "execution_count": 5,
   "metadata": {},
   "outputs": [
    {
     "name": "stdout",
     "output_type": "stream",
     "text": [
      "[[0]\n",
      " [1]\n",
      " [0]\n",
      " [0]]\n"
     ]
    }
   ],
   "source": [
    "psi = np.kron(zero_state(), one_state())\n",
    "print(psi)"
   ]
  },
  {
   "cell_type": "markdown",
   "metadata": {},
   "source": [
    "### 4 - Passing circuits <a class=\"anchor\" id=\"passing_circuits\"></a>\n",
    "\n",
    "The description of the quantum circuit is provided with a list of strings where each member of the list represents one layer of the quantum circuit. It is important to note that every layer must contain a $n$-qubit gate, where $n$ is the dimension of the input state $|\\psi\\rangle$. Therefore, if the intention is to not act upon a specific qubit, then the identity gate must be specified for that qubit. Moreover, the circuit should strictly consist one of Clifford $(I, X, Z, H, P, CNOT)$+$T$ gates. \n",
    "\n",
    "Below, you can see examples of multiple circuits and how the description of those circuits are passed as a parameter in the implementation (the circuits are plotted by IBM's qiskit package). "
   ]
  },
  {
   "attachments": {
    "entanglement_circuit.jpg": {
     "image/jpeg": "[encoded data removed]"
    }
   },
   "cell_type": "markdown",
   "metadata": {},
   "source": [
    "![entanglement_circuit.jpg](attachment:entanglement_circuit.jpg)"
   ]
  },
  {
   "cell_type": "code",
   "execution_count": 6,
   "metadata": {},
   "outputs": [],
   "source": [
    "circuit = [\"HI\",\"CNOT\"]"
   ]
  },
  {
   "cell_type": "markdown",
   "metadata": {},
   "source": [
    "The `circuit` specifies to apply the $H \\otimes I$ first, followed by applying the $CNOT$ gate."
   ]
  },
  {
   "attachments": {
    "three_qubit_circuit.jpg": {
     "image/jpeg": "[encoded data removed]"
    }
   },
   "cell_type": "markdown",
   "metadata": {},
   "source": [
    "![three_qubit_circuit.jpg](attachment:three_qubit_circuit.jpg)"
   ]
  },
  {
   "cell_type": "code",
   "execution_count": 7,
   "metadata": {},
   "outputs": [],
   "source": [
    "circuit = [\"CNOTT\",\"THT\"]"
   ]
  },
  {
   "cell_type": "code",
   "execution_count": 8,
   "metadata": {},
   "outputs": [
    {
     "name": "stdout",
     "output_type": "stream",
     "text": [
      "[[0.5+0.j 0. +0.j 0.5-0.j 0. +0.j 0. +0.j 0. +0.j 0. +0.j 0. +0.j]\n",
      " [0. +0.j 0. +0.j 0. +0.j 0. +0.j 0. +0.j 0. +0.j 0. +0.j 0. +0.j]\n",
      " [0.5-0.j 0. +0.j 0.5+0.j 0. +0.j 0. +0.j 0. +0.j 0. +0.j 0. +0.j]\n",
      " [0. +0.j 0. +0.j 0. +0.j 0. +0.j 0. +0.j 0. +0.j 0. +0.j 0. +0.j]\n",
      " [0. +0.j 0. +0.j 0. +0.j 0. +0.j 0. +0.j 0. +0.j 0. +0.j 0. +0.j]\n",
      " [0. +0.j 0. +0.j 0. +0.j 0. +0.j 0. +0.j 0. +0.j 0. +0.j 0. +0.j]\n",
      " [0. +0.j 0. +0.j 0. +0.j 0. +0.j 0. +0.j 0. +0.j 0. +0.j 0. +0.j]\n",
      " [0. +0.j 0. +0.j 0. +0.j 0. +0.j 0. +0.j 0. +0.j 0. +0.j 0. +0.j]]\n"
     ]
    }
   ],
   "source": [
    "psi = iterated_tensor_prod(zero_state(), 3)\n",
    "input_state_dimension = int(np.log2(psi.shape[0]))\n",
    "a = [random.getrandbits(1) for i in range(input_state_dimension)]\n",
    "b =  [random.getrandbits(1) for i in range(input_state_dimension)]\n",
    "circuit = circuit = [\"CNOTT\",\"THT\"]\n",
    "print(np.round(epr_qhe_no_fhe(psi, a, b, circuit),2))"
   ]
  },
  {
   "cell_type": "markdown",
   "metadata": {},
   "source": [
    "### 5 - EPR scheme with FHE <a class=\"anchor\" id=\"epr_fhe\"></a>"
   ]
  },
  {
   "cell_type": "markdown",
   "metadata": {},
   "source": [
    "First, we need to load the appropriate notebook:"
   ]
  },
  {
   "cell_type": "code",
   "execution_count": 9,
   "metadata": {},
   "outputs": [],
   "source": [
    "import os\n",
    "\n",
    "# change the directory to run the desired notebook \n",
    "relative_path = 'epr-fhe'\n",
    "epr_no_fhe_dir = os.path.join(current_dir, relative_path)\n",
    "os.chdir(epr_no_fhe_dir)"
   ]
  },
  {
   "cell_type": "markdown",
   "metadata": {},
   "source": [
    "Please note that the modules in `epr_scheme.ipynb` depends on the installation of the `py-fhe` package. The installation instructions can be found here:\n",
    "\n",
    " - https://github.com/sarojaerabelli/py-fhe"
   ]
  },
  {
   "cell_type": "code",
   "execution_count": 10,
   "metadata": {},
   "outputs": [],
   "source": [
    "%run epr_scheme.ipynb"
   ]
  },
  {
   "cell_type": "code",
   "execution_count": 11,
   "metadata": {},
   "outputs": [
    {
     "name": "stdout",
     "output_type": "stream",
     "text": [
      "[[0 0]\n",
      " [0 1]]\n"
     ]
    }
   ],
   "source": [
    "psi = zero_state()\n",
    "a = [random.getrandbits(1) for i in range(int(np.log2(psi.shape[0])))]\n",
    "b =  [random.getrandbits(1) for i in range(int(np.log2(psi.shape[0])))]\n",
    "circuit = [\"X\"]\n",
    "output = epr_quantum_homomorphic_scheme(psi, a, b, circuit)\n",
    "print(output)"
   ]
  },
  {
   "cell_type": "markdown",
   "metadata": {},
   "source": [
    "If you were able to run the above cell succeffully, then you have successfully run the full simulation of the EPR scheme using a fully homomorphic encryption scheme for performing key updates! "
   ]
  },
  {
   "cell_type": "markdown",
   "metadata": {},
   "source": [
    "### 6 - Testing the correctness <a class=\"anchor\" id=\"testing_correctness\"></a>"
   ]
  },
  {
   "cell_type": "markdown",
   "metadata": {},
   "source": [
    "The code block below generates a random circuit using an input that specifes the number of layers. The code then performs the circuit evaluation both homomorphically and in the clear to check the correctness of the output. \n",
    "\n",
    "Please note that as the depth of the circuit increases, the numerical accuracy decreases. "
   ]
  },
  {
   "cell_type": "code",
   "execution_count": 12,
   "metadata": {},
   "outputs": [
    {
     "name": "stdout",
     "output_type": "stream",
     "text": [
      "The evaluated circuit is:\n",
      " ['PX', 'TT', 'ZH', 'IP', 'TH']\n",
      "\n",
      "Homomorphically evaluated state:\n",
      " [[ 0.25+0.j   -0.  -0.25j  0.18-0.18j  0.18+0.18j]\n",
      " [-0.  +0.25j  0.25-0.j    0.18+0.18j -0.18+0.18j]\n",
      " [ 0.18+0.18j  0.18-0.18j  0.25-0.j   -0.  +0.25j]\n",
      " [ 0.18-0.18j -0.18-0.18j -0.  -0.25j  0.25+0.j  ]]\n",
      "\n",
      "Evluated state in the clear:\n",
      " [[ 0.25+0.j    0.  -0.25j  0.18-0.18j  0.18+0.18j]\n",
      " [ 0.  +0.25j  0.25+0.j    0.18+0.18j -0.18+0.18j]\n",
      " [ 0.18+0.18j  0.18-0.18j  0.25+0.j    0.  +0.25j]\n",
      " [ 0.18-0.18j -0.18-0.18j  0.  -0.25j  0.25+0.j  ]]\n",
      "\n",
      "Are the outputs in both methods close to each other? True\n"
     ]
    }
   ],
   "source": [
    "psi = gen_epr()\n",
    "\n",
    "input_state_dimension = int(np.log2(psi.shape[0]))\n",
    "a = [random.getrandbits(1) for i in range(input_state_dimension)]\n",
    "b =  [random.getrandbits(1) for i in range(input_state_dimension)]\n",
    "\n",
    "# you can change the number of layers\n",
    "number_of_layers = 5\n",
    "\n",
    "# you can set a threshold for the number of T gates in the circuit. \n",
    "max_T_gates = 3\n",
    "t_gate_count = 0\n",
    "\n",
    "gates = [\"I\", \"X\", \"Z\", \"H\",\"P\",\"CNOT\", \"T\"]\n",
    "\n",
    "circuits = [\"0\"]*number_of_layers\n",
    "\n",
    "for i in range(number_of_layers):\n",
    "    gate_dimension = 0        \n",
    "    for j in range(input_state_dimension):\n",
    "        if \"CNOT\" not in gates:\n",
    "            gates.append(\"CNOT\")\n",
    "        if gate_dimension + 2 > input_state_dimension:\n",
    "            gates.remove(\"CNOT\")\n",
    "        if gate_dimension + 1 > input_state_dimension:\n",
    "            continue\n",
    "        current_gate = random.choice(gates)\n",
    "        if current_gate == \"T\":\n",
    "            t_gate_count = t_gate_count + 1\n",
    "        if t_gate_count >= max_T_gates:\n",
    "            gates = [\"I\", \"X\", \"Z\", \"H\",\"P\",\"CNOT\"]\n",
    "\n",
    "        if current_gate != \"CNOT\":\n",
    "            gate_dimension = gate_dimension + 1\n",
    "\n",
    "        if current_gate == \"CNOT\":\n",
    "            gate_dimension = gate_dimension + 2\n",
    "\n",
    "        circuits[i] = ''.join(circuits[i] + current_gate)\n",
    "\n",
    "circuits = [s[1:] for s in circuits]\n",
    "circuits\n",
    "\n",
    "\n",
    "\n",
    "output = epr_quantum_homomorphic_scheme(psi, a, b, circuits)\n",
    "\n",
    "evaluated_circuit_in_clear = psi\n",
    "Gate_by_gate_circuit = tcl_layers(circuits)\n",
    "for GateNumber in range(len(Gate_by_gate_circuit)):\n",
    "    current_circuit = np.array([1])\n",
    "    for quasi_qubit_number in range(len(Gate_by_gate_circuit[GateNumber])):\n",
    "        current_gate = Gate_by_gate_circuit[GateNumber][quasi_qubit_number]\n",
    "\n",
    "        if current_gate == \"I\":\n",
    "            current_circuit = np.kron(current_circuit, I)\n",
    "\n",
    "        if current_gate == \"X\":\n",
    "            current_circuit = np.kron(current_circuit, X)\n",
    "\n",
    "        if current_gate == \"Z\":\n",
    "            current_circuit = np.kron(current_circuit, Z)\n",
    "\n",
    "        if current_gate == \"P\":\n",
    "            current_circuit = np.kron(current_circuit, P)\n",
    "\n",
    "        if current_gate == \"H\":\n",
    "            current_circuit = np.kron(current_circuit, H)\n",
    "\n",
    "        if current_gate == \"CNOT\":\n",
    "            current_circuit = np.kron(current_circuit, CNOT)\n",
    "\n",
    "        if current_gate == \"T\":\n",
    "            current_circuit = np.kron(current_circuit, T)\n",
    "\n",
    "    evaluated_circuit_in_clear = current_circuit @ evaluated_circuit_in_clear\n",
    "\n",
    "print(\"The evaluated circuit is:\\n\", circuits)\n",
    "\n",
    "print()\n",
    "    \n",
    "print(\"Homomorphically evaluated state:\\n\",np.round(output,2))\n",
    "\n",
    "print()\n",
    "\n",
    "print(\"Evluated state in the clear:\\n\", np.round(pure_to_density(evaluated_circuit_in_clear),2))\n",
    "\n",
    "print()\n",
    "\n",
    "print(\"Are the outputs in both methods close to each other?\", np.allclose(output, pure_to_density\n",
    "                                                                          (evaluated_circuit_in_clear)))        "
   ]
  },
  {
   "cell_type": "markdown",
   "metadata": {},
   "source": [
    "Happy exploring! 😀"
   ]
  },
  {
   "cell_type": "markdown",
   "metadata": {},
   "source": [
    "### 7 - References <a class=\"anchor\" id=\"refs\"></a>\n",
    "\n",
    " - A. Broadbent and S. Jeffery, “Quantum homomorphic encryption for circuits of low T-gate complexity,” in Advances in Cryptology — CRYPTO 2015, vol. 2, 2015, pp. 609–629\n",
    "\n",
    " - Zvika Brakerski. Fully homomorphic encryption without modulus switching from classical gapsvp. In Annual Cryptology Conference, pages 868–886. Springer, 2012.\n",
    "https://eprint.iacr.org/2012/078.pdf\n",
    "\n",
    " - Junfeng Fan and Frederik Vercauteren. Somewhat practical fully homomorphic encryption. 2012. https://eprint.iacr.org/2012/144.\n",
    "\n",
    " - S. Erabelli, “py-fhe,” https://github.com/sarojaerabelli/py-fhe, 2020"
   ]
  }
 ],
 "metadata": {
  "@webio": {
   "lastCommId": null,
   "lastKernelId": null
  },
  "kernelspec": {
   "display_name": "Python 3",
   "language": "python",
   "name": "python3"
  },
  "language_info": {
   "codemirror_mode": {
    "name": "ipython",
    "version": 3
   },
   "file_extension": ".py",
   "mimetype": "text/x-python",
   "name": "python",
   "nbconvert_exporter": "python",
   "pygments_lexer": "ipython3",
   "version": "3.8.5"
  }
 },
 "nbformat": 4,
 "nbformat_minor": 4
}
